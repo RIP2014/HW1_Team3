{
 "metadata": {
  "name": "",
  "signature": "sha256:77b62be58735c5b27d85af4e9d1cb91a9866a6cf7a6a4870c8d5feff8cf643df"
 },
 "nbformat": 3,
 "nbformat_minor": 0,
 "worksheets": [
  {
   "cells": [
    {
     "cell_type": "code",
     "collapsed": false,
     "input": [
      "from IPython.display import Image\n",
      "from IPython.display import FileLink, FileLinks"
     ],
     "language": "python",
     "metadata": {},
     "outputs": []
    },
    {
     "cell_type": "heading",
     "level": 1,
     "metadata": {},
     "source": [
      "Homework 1: Classical Planning"
     ]
    },
    {
     "cell_type": "markdown",
     "metadata": {},
     "source": [
      "Robot Intelligence - Planning CS 4649/7649, Fall 2014  \n",
      "Instructor: Sungmoon Joo\n",
      "\n",
      "9/29/14\n",
      "## Team 3\n",
      "* Siddharth Choudhary\n",
      "* Varun Murali\n",
      "* Yosef Razin\n",
      "* Ruffin White"
     ]
    },
    {
     "cell_type": "heading",
     "level": 2,
     "metadata": {},
     "source": [
      "1) Towers of Hanoi"
     ]
    },
    {
     "cell_type": "markdown",
     "metadata": {},
     "source": [
      "A famous problem in classical planning is the Towers of Hanoi. Apparently, some priests in Vietnam are required to stack enormous discs from one tower to another by command of an ancient prophecy. Lets help them out with modern automation. The discs must always be stacked in order of increasing height. The goal is to move all the discs from the first tower to the third. Experiment with at least two different classical planners to solve this problem. Links to the domain are provided on the course web page. The page also contains links to some recommended planners. You are welcome and recommended to try other planners as well."
     ]
    },
    {
     "cell_type": "code",
     "collapsed": false,
     "input": [
      "Image(\"Figures/Towers of Hanoi.png\")"
     ],
     "language": "python",
     "metadata": {},
     "outputs": []
    },
    {
     "cell_type": "markdown",
     "metadata": {},
     "source": [
      "We'll specify the relative path to each of the planners"
     ]
    },
    {
     "cell_type": "code",
     "collapsed": false,
     "input": [
      "planner_path = \"../../../Documents/Code/Planners/\"\n",
      "blackbox  = planner_path + \"Blackbox43LinuxBinary/blackbox\"\n",
      "satplan   = planner_path + \"SatPlan2006_LinuxBin/satplan\"\n",
      "vhpop     = planner_path + \"vhpop-2.2.1/vhpop\"\n",
      "graphplan = planner_path + \"Graphplan/graphplan\"\n",
      "pyperplan = planner_path + \"pyperplan/src/pyperplan.py\"\n",
      "# shop      = \"../../../Documents/Code/Planners/shop2-2.9.0/\""
     ],
     "language": "python",
     "metadata": {},
     "outputs": []
    },
    {
     "cell_type": "markdown",
     "metadata": {},
     "source": [
      "And then the relative path of the domain and problem .pddl files"
     ]
    },
    {
     "cell_type": "code",
     "collapsed": false,
     "input": [
      "tower_path = \"/home/tox/git/HW1_Team3/Code/Towers/\"\n",
      "domain   = tower_path + \"hanoi-domain.pddl\"\n",
      "problem  = tower_path + \"hanoi2.pddl\""
     ],
     "language": "python",
     "metadata": {},
     "outputs": []
    },
    {
     "cell_type": "markdown",
     "metadata": {},
     "source": [
      "Lets go ahead and try out the blackbox planner"
     ]
    },
    {
     "cell_type": "code",
     "collapsed": false,
     "input": [
      "%%bash -s \"$blackbox\" \"$domain\" \"$problem\"\n",
      "$1 -o $2 -f $3 -solver graphplan"
     ],
     "language": "python",
     "metadata": {},
     "outputs": []
    },
    {
     "cell_type": "markdown",
     "metadata": {},
     "source": [
      "Ok, so that worked out. Now lets try VHPOP."
     ]
    },
    {
     "cell_type": "code",
     "collapsed": false,
     "input": [
      "%%bash -s \"$vhpop\" \"$domain\" \"$problem\"\n",
      "$1  -f LCFR -l 10000 -f MW -l unlimited $2 $3"
     ],
     "language": "python",
     "metadata": {},
     "outputs": []
    },
    {
     "cell_type": "heading",
     "level": 3,
     "metadata": {},
     "source": [
      "a) Explain the method by which each of the two planners finds a solution."
     ]
    },
    {
     "cell_type": "markdown",
     "metadata": {},
     "source": [
      "The first planner applied, Blackbox, is a planning system that compbines satplan and graphplan. Basicly, it parses the PDDL files specified with STRIPS notation into a Boolean, or propositional, satisfiability problem and then applies several diffrent types of satisfiability engines. The name blackbox refers to that the plan generator and the SAT solver know nothing about eachother, thus premitting a flexable sytem to try out diffrent engines to use. The perticular solver used here is just graphplan with defoult perameters.\n",
      "\n",
      "The second planner applied, VHPOP is a partial order causal link (POCL) planner loosely based on UCPOP from University of Washington. Written by H\u00e5kan L. S. Younes, VHPOP gained reconition durring 3rd International Planning Competition (2002) as Best Newcomer and thus reviving the study partial order planning."
     ]
    },
    {
     "cell_type": "heading",
     "level": 3,
     "metadata": {},
     "source": [
      "b) Which planner was fastest?"
     ]
    },
    {
     "cell_type": "code",
     "collapsed": false,
     "input": [],
     "language": "python",
     "metadata": {},
     "outputs": []
    },
    {
     "cell_type": "heading",
     "level": 3,
     "metadata": {},
     "source": [
      "c) Explain why the winning planner might be more effective on this problem. "
     ]
    },
    {
     "cell_type": "code",
     "collapsed": false,
     "input": [],
     "language": "python",
     "metadata": {},
     "outputs": []
    },
    {
     "cell_type": "heading",
     "level": 2,
     "metadata": {},
     "source": [
      "2) Sokoban PDDL"
     ]
    },
    {
     "cell_type": "markdown",
     "metadata": {},
     "source": [
      "During the times of Pong, Pac-Man and Tetris, Hiroyuki Imabayashi created an complex game that tested the human abilities of planning: Sokoban. Many folks are still addicted to solving Sokoban puzzles and you can join them by playing any of the versions freely distributed on the web. The goal is for the human, or robot, to push all the boxes into the desired locations. The robot can move horizontally and vertically and push one box at a time."
     ]
    },
    {
     "cell_type": "code",
     "collapsed": false,
     "input": [
      "Image(\"Figures/Sokoban 1.png\")"
     ],
     "language": "python",
     "metadata": {},
     "outputs": []
    },
    {
     "cell_type": "markdown",
     "metadata": {},
     "source": [
      "Describe the Sokoban domain in PDDL. For each of the problems in Figure 2, define the problem in PDDL. You can either use the target lettering given in the picture or let the planner move any box to any target square. For the challenge problem, any box in any location is a solution. In the challenge, PDDL should NOT inform the robot which box should go to which location. In addition you may also try other problems you invent or find on the web. How well do your two planners perform on these problems? If no planner seems to be solving it, perhaps you should consider a different method for defining your problems."
     ]
    },
    {
     "cell_type": "heading",
     "level": 3,
     "metadata": {},
     "source": [
      "a) Show successful plans from at least one planner on the three Sokoban problems in Figure 2(1-3). The challenge problem is optional."
     ]
    },
    {
     "cell_type": "code",
     "collapsed": false,
     "input": [
      "%run 'Scratch Book.ipynb'"
     ],
     "language": "python",
     "metadata": {},
     "outputs": []
    },
    {
     "cell_type": "code",
     "collapsed": false,
     "input": [
      "world_path = \"/home/tox/git/HW1_Team3/Code/Worlds/\"\n",
      "\n",
      "domain   = world_path + \"sokoban_domain.pddl\"\n",
      "world    = world_path + \"world1.txt\"\n",
      "problem  = world_path + \"world1_proble.pddl\"\n",
      "solution = world_path + \"world1_proble.pddl.soln\"\n",
      "graph    = world_path + \"world1_proble.png\"\n",
      "\n",
      "sokoban = Sokoban(world, labeled_boxes = False)\n",
      "sokoban.writeProblem(problem)"
     ],
     "language": "python",
     "metadata": {},
     "outputs": []
    },
    {
     "cell_type": "code",
     "collapsed": false,
     "input": [
      "%%bash -s \"cat\" \"$domain\"\n",
      "$1 $2"
     ],
     "language": "python",
     "metadata": {},
     "outputs": []
    },
    {
     "cell_type": "code",
     "collapsed": false,
     "input": [
      "%%bash -s \"cat\" \"$world\"\n",
      "$1 $2"
     ],
     "language": "python",
     "metadata": {},
     "outputs": []
    },
    {
     "cell_type": "code",
     "collapsed": false,
     "input": [
      "%%bash -s \"cat\" \"$problem\"\n",
      "$1 $2"
     ],
     "language": "python",
     "metadata": {},
     "outputs": []
    },
    {
     "cell_type": "code",
     "collapsed": false,
     "input": [
      "%%bash -s \"$blackbox\" \"$domain\" \"$problem\"\n",
      "$1 -o $2 -f $3"
     ],
     "language": "python",
     "metadata": {},
     "outputs": []
    },
    {
     "cell_type": "code",
     "collapsed": false,
     "input": [
      "%%bash -s \"$vhpop\" \"$domain\" \"$problem\"\n",
      "$1  -f LCFR -l 10000 -f MW -l unlimited $2 $3"
     ],
     "language": "python",
     "metadata": {},
     "outputs": []
    },
    {
     "cell_type": "markdown",
     "metadata": {},
     "source": [
      "Well, VHPOP never seamed to be able to finish this example under 15 min, so lets try somthingelse."
     ]
    },
    {
     "cell_type": "code",
     "collapsed": false,
     "input": [
      "%%bash -s \"$pyperplan\" \"$domain\" \"$problem\"\n",
      "$1 $2 $3 $4 --plugins visualizer -s bfs"
     ],
     "language": "python",
     "metadata": {},
     "outputs": []
    },
    {
     "cell_type": "code",
     "collapsed": false,
     "input": [
      "%%bash -s \"cat\" \"$solution\"\n",
      "$1 $2"
     ],
     "language": "python",
     "metadata": {},
     "outputs": []
    },
    {
     "cell_type": "code",
     "collapsed": false,
     "input": [
      "Image(\"Worlds-bfs-hff-world1_proble.png\")"
     ],
     "language": "python",
     "metadata": {},
     "outputs": []
    },
    {
     "cell_type": "code",
     "collapsed": false,
     "input": [
      "domain   = world_path + \"sokoban_domain.pddl\"\n",
      "world    = world_path + \"world2.txt\"\n",
      "problem  = world_path + \"world2_proble.pddl\"\n",
      "solution = world_path + \"world2_proble.pddl.soln\"\n",
      "\n",
      "sokoban = Sokoban(world, labeled_boxes = False)\n",
      "sokoban.writeProblem(problem)"
     ],
     "language": "python",
     "metadata": {},
     "outputs": []
    },
    {
     "cell_type": "code",
     "collapsed": false,
     "input": [
      "%%bash -s \"$pyperplan\" \"$domain\" \"$problem\"\n",
      "$1 $2 $3 $4 --plugins visualizer"
     ],
     "language": "python",
     "metadata": {},
     "outputs": []
    },
    {
     "cell_type": "code",
     "collapsed": false,
     "input": [
      "%%bash -s \"cat\" \"$solution\"\n",
      "$1 $2"
     ],
     "language": "python",
     "metadata": {},
     "outputs": []
    },
    {
     "cell_type": "code",
     "collapsed": false,
     "input": [
      "Image(\"Worlds-bfs-hff-world2_proble.png\")"
     ],
     "language": "python",
     "metadata": {},
     "outputs": []
    },
    {
     "cell_type": "code",
     "collapsed": false,
     "input": [
      "%%bash -s \"$pyperplan\" \"$domain\" \"$problem\"\n",
      "$1 $2 $3 $4 --plugins visualizer -H hff -s gbf"
     ],
     "language": "python",
     "metadata": {},
     "outputs": []
    },
    {
     "cell_type": "code",
     "collapsed": false,
     "input": [
      "Image(\"Worlds-gbf-hff-world2_proble.png\")"
     ],
     "language": "python",
     "metadata": {},
     "outputs": []
    },
    {
     "cell_type": "code",
     "collapsed": false,
     "input": [
      "domain   = world_path + \"sokoban_domain.pddl\"\n",
      "world    = world_path + \"world3.txt\"\n",
      "problem  = world_path + \"world3_proble.pddl\"\n",
      "solution = world_path + \"world3_proble.pddl.soln\"\n",
      "\n",
      "sokoban = Sokoban(world, labeled_boxes = False)\n",
      "sokoban.writeProblem(problem)"
     ],
     "language": "python",
     "metadata": {},
     "outputs": []
    },
    {
     "cell_type": "code",
     "collapsed": false,
     "input": [
      "%%bash -s \"$pyperplan\" \"$domain\" \"$problem\"\n",
      "$1 $2 $3 $4 --plugins visualizer"
     ],
     "language": "python",
     "metadata": {},
     "outputs": []
    },
    {
     "cell_type": "code",
     "collapsed": false,
     "input": [
      "%%bash -s \"cat\" \"$solution\"\n",
      "$1 $2"
     ],
     "language": "python",
     "metadata": {},
     "outputs": []
    },
    {
     "cell_type": "code",
     "collapsed": false,
     "input": [
      "Image(\"Worlds-bfs-hff-world3_proble.png\")"
     ],
     "language": "python",
     "metadata": {},
     "outputs": []
    },
    {
     "cell_type": "code",
     "collapsed": false,
     "input": [
      "%%bash -s \"$pyperplan\" \"$domain\" \"$problem\"\n",
      "$1 $2 $3 $4 --plugins visualizer -H hff -s gbf"
     ],
     "language": "python",
     "metadata": {},
     "outputs": []
    },
    {
     "cell_type": "code",
     "collapsed": false,
     "input": [
      "Image(\"Worlds-gbf-hff-world3_proble.png\")"
     ],
     "language": "python",
     "metadata": {},
     "outputs": []
    },
    {
     "cell_type": "code",
     "collapsed": false,
     "input": [
      "world    = \"Worlds/world4.txt\"\n",
      "problem  = \"Worlds/world4_proble.pddl\"\n",
      "solution = \"Worlds/world4_proble.pddl.soln\"\n",
      "# sokoban = Sokoban(world, labeled_boxes = False)\n",
      "# sokoban.writeProblem(problem)"
     ],
     "language": "python",
     "metadata": {},
     "outputs": []
    },
    {
     "cell_type": "code",
     "collapsed": false,
     "input": [
      "%%bash -s \"cat\" \"$solution\"\n",
      "$1 $2"
     ],
     "language": "python",
     "metadata": {},
     "outputs": []
    },
    {
     "cell_type": "code",
     "collapsed": false,
     "input": [],
     "language": "python",
     "metadata": {},
     "outputs": []
    },
    {
     "cell_type": "code",
     "collapsed": false,
     "input": [],
     "language": "python",
     "metadata": {},
     "outputs": []
    },
    {
     "cell_type": "heading",
     "level": 3,
     "metadata": {},
     "source": [
      "b)  Compare the performance of two planners on this domain. Which one works better? Does this make sense, why?"
     ]
    },
    {
     "cell_type": "code",
     "collapsed": false,
     "input": [],
     "language": "python",
     "metadata": {},
     "outputs": []
    },
    {
     "cell_type": "heading",
     "level": 3,
     "metadata": {},
     "source": [
      "c)  Clearly PDDL was not intended for this sort of application. Discuss the challenges in expressing geometric constraints in semantic planning."
     ]
    },
    {
     "cell_type": "code",
     "collapsed": false,
     "input": [],
     "language": "python",
     "metadata": {},
     "outputs": []
    },
    {
     "cell_type": "heading",
     "level": 3,
     "metadata": {},
     "source": [
      "d) In many cases, geometric and dynamic planning are insufficient to describe a domain. Give an example of a problem that is best suited for sematic (classical) planning. Explain why a semantic representation would be desirable.\n"
     ]
    },
    {
     "cell_type": "code",
     "collapsed": false,
     "input": [],
     "language": "python",
     "metadata": {},
     "outputs": []
    }
   ],
   "metadata": {}
  }
 ]
}