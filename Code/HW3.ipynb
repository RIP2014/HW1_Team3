{
 "metadata": {
  "name": "",
  "signature": "sha256:c7c023347af6ed9c0790d34054877c7914ee17a1036e6ba872196711e1089484"
 },
 "nbformat": 3,
 "nbformat_minor": 0,
 "worksheets": [
  {
   "cells": [
    {
     "cell_type": "code",
     "collapsed": false,
     "input": [
      "from IPython.display import Image\n",
      "from IPython.display import FileLink, FileLinks"
     ],
     "language": "python",
     "metadata": {},
     "outputs": [],
     "prompt_number": 31
    },
    {
     "cell_type": "heading",
     "level": 1,
     "metadata": {},
     "source": [
      "Homework 1: Classical Planning"
     ]
    },
    {
     "cell_type": "markdown",
     "metadata": {},
     "source": [
      "Robot Intelligence - Planning CS 4649/7649, Fall 2014  \n",
      "Instructor: Sungmoon Joo\n",
      "\n",
      "9/29/14\n",
      "## Team 3\n",
      "* Siddharth Choudhary\n",
      "* Varun Murali\n",
      "* Yosef Razin\n",
      "* Ruffin White"
     ]
    },
    {
     "cell_type": "heading",
     "level": 2,
     "metadata": {},
     "source": [
      "1) Towers of Hanoi"
     ]
    },
    {
     "cell_type": "markdown",
     "metadata": {},
     "source": [
      "A famous problem in classical planning is the Towers of Hanoi. Apparently, some priests in Vietnam are required to stack enormous discs from one tower to another by command of an ancient prophecy. Lets help them out with modern automation. The discs must always be stacked in order of increasing height. The goal is to move all the discs from the first tower to the third. Experiment with at least two different classical planners to solve this problem. Links to the domain are provided on the course web page. The page also contains links to some recommended planners. You are welcome and recommended to try other planners as well."
     ]
    },
    {
     "cell_type": "code",
     "collapsed": false,
     "input": [
      "Image(\"Figures/Towers of Hanoi.png\")"
     ],
     "language": "python",
     "metadata": {},
     "outputs": [
      {
       "metadata": {},
       "output_type": "pyout",
       "png": "[encoded data removed]",
       "prompt_number": 29,
       "text": [
        "<IPython.core.display.Image at 0x7f0ff870ee90>"
       ]
      }
     ],
     "prompt_number": 29
    },
    {
     "cell_type": "markdown",
     "metadata": {},
     "source": [
      "We'll specify the relative path to each of the planners"
     ]
    },
    {
     "cell_type": "code",
     "collapsed": false,
     "input": [
      "blackbox  = \"../../../Documents/Code/Planners/Blackbox43LinuxBinary/blackbox\"\n",
      "satplan   = \"../../../Documents/Code/Planners/SatPlan2006_LinuxBin/satplan\"\n",
      "vhpop     = \"../../../Documents/Code/Planners/vhpop-2.2.1/vhpop\"\n",
      "graphplan = \"../../../Documents/Code/Planners/Graphplan/graphplan\"\n",
      "# shop      = \"../../../Documents/Code/Planners/shop2-2.9.0/\""
     ],
     "language": "python",
     "metadata": {},
     "outputs": [],
     "prompt_number": 12
    },
    {
     "cell_type": "markdown",
     "metadata": {},
     "source": [
      "And then the relative path of the domain and problem .pddl files"
     ]
    },
    {
     "cell_type": "code",
     "collapsed": false,
     "input": [
      "domain   = \"hanoi-domain.pddl\"\n",
      "problem  = \"hanoi2.pddl\""
     ],
     "language": "python",
     "metadata": {},
     "outputs": [],
     "prompt_number": 21
    },
    {
     "cell_type": "code",
     "collapsed": false,
     "input": [
      "FileLinks('.')"
     ],
     "language": "python",
     "metadata": {},
     "outputs": [
      {
       "html": [
        "./<br>\n",
        "&nbsp;&nbsp;<a href='./hanoi-domain.pddl' target='_blank'>hanoi-domain.pddl</a><br>\n",
        "&nbsp;&nbsp;<a href='./HW3.ipynb' target='_blank'>HW3.ipynb</a><br>\n",
        "&nbsp;&nbsp;<a href='./hanoi2.pddl' target='_blank'>hanoi2.pddl</a><br>\n",
        "./.ipynb_checkpoints/<br>\n",
        "&nbsp;&nbsp;<a href='./.ipynb_checkpoints/HW3-checkpoint.ipynb' target='_blank'>HW3-checkpoint.ipynb</a><br>\n",
        "./Figures/<br>\n",
        "&nbsp;&nbsp;<a href='./Figures/Sokoban 1.png' target='_blank'>Sokoban 1.png</a><br>\n",
        "&nbsp;&nbsp;<a href='./Figures/Towers of Hanoi.png' target='_blank'>Towers of Hanoi.png</a><br>"
       ],
       "metadata": {},
       "output_type": "pyout",
       "prompt_number": 32,
       "text": [
        "./\n",
        "  hanoi-domain.pddl\n",
        "  HW3.ipynb\n",
        "  hanoi2.pddl\n",
        "./.ipynb_checkpoints/\n",
        "  HW3-checkpoint.ipynb\n",
        "./Figures/\n",
        "  Sokoban 1.png\n",
        "  Towers of Hanoi.png"
       ]
      }
     ],
     "prompt_number": 32
    },
    {
     "cell_type": "markdown",
     "metadata": {},
     "source": [
      "Lets go ahead and try out the blackbox planner"
     ]
    },
    {
     "cell_type": "code",
     "collapsed": false,
     "input": [
      "%%bash -s \"$blackbox\" \"$domain\" \"$problem\"\n",
      "$1 -o $2 -f $3"
     ],
     "language": "python",
     "metadata": {},
     "outputs": [
      {
       "output_type": "stream",
       "stream": "stdout",
       "text": [
        "blackbox version 43\n",
        "command line:  ../../../Documents/Code/Planners/Blackbox43LinuxBinary/blackbox -o hanoi-domain.pddl -f hanoi2.pddl\n",
        "\n",
        "Begin solver specification\n",
        "    -maxint        0   -maxsec 10.000000  graphplan\n",
        "    -maxint        0   -maxsec 0.000000  chaff\n",
        "End solver specification\n",
        "Loading domain file: hanoi-domain.pddl\n",
        "Loading fact file: hanoi2.pddl\n",
        "Problem name: hanoi-3\n",
        "Facts loaded.\n",
        "time: 1, 24 facts and 6 exclusive pairs.\n",
        "time: 2, 27 facts and 17 exclusive pairs.\n",
        "time: 3, 31 facts and 35 exclusive pairs.\n",
        "Goals reachable at 3 steps but mutually exclusive.\n",
        "time: 4, 33 facts and 42 exclusive pairs.\n",
        "Goals first reachable in 4 steps.\n",
        "297 nodes created.\n",
        "\n",
        "####################################################\n",
        "goals at time 5:\n",
        "  on_d1_d2 on_d2_d3 on_d3_p1 \n",
        "\n",
        "\n",
        "----------------------------------------------------\n",
        "Invoking solver graphplan\n",
        "Result is Unsat\n",
        "Iteration was 2\n",
        "\n",
        "----------------------------------------------------\n",
        "Can't solve in 4 steps\n",
        "time: 5, 33 facts and 41 exclusive pairs.\n",
        "104 new nodes added.\n",
        "\n",
        "####################################################\n",
        "goals at time 6:\n",
        "  on_d1_d2 on_d2_d3 on_d3_p1 \n",
        "\n",
        "\n",
        "----------------------------------------------------\n",
        "Invoking solver graphplan\n",
        "Result is Unsat\n",
        "Iteration was 20\n",
        "\n",
        "----------------------------------------------------\n",
        "Can't solve in 5 steps\n",
        "time: 6, 33 facts and 41 exclusive pairs.\n",
        "104 new nodes added.\n",
        "\n",
        "####################################################\n",
        "goals at time 7:\n",
        "  on_d1_d2 on_d2_d3 on_d3_p1 \n",
        "\n",
        "\n",
        "----------------------------------------------------\n",
        "Invoking solver graphplan\n",
        "Result is Unsat\n",
        "Iteration was 70\n",
        "\n",
        "----------------------------------------------------\n",
        "Can't solve in 6 steps\n",
        "time: 7, 33 facts and 41 exclusive pairs.\n",
        "104 new nodes added.\n",
        "\n",
        "####################################################\n",
        "goals at time 8:\n",
        "  on_d1_d2 on_d2_d3 on_d3_p1 \n",
        "\n",
        "\n",
        "----------------------------------------------------\n",
        "Invoking solver graphplan\n",
        "Result is Sat\n",
        "Iteration was 239\n",
        "Performing plan justification:\n",
        "   0 actions were pruned in 0.00 seconds\n",
        "\n",
        "----------------------------------------------------\n",
        "Begin plan\n",
        "1 (move-disk d1 d2 p1)\n",
        "2 (move-disk d2 d3 p2)\n",
        "3 (move-disk d1 p1 d2)\n",
        "4 (move-disk d3 p3 p1)\n",
        "5 (move-disk d1 d2 p3)\n",
        "6 (move-disk d2 p2 d3)\n",
        "7 (move-disk d1 p3 d2)\n",
        "End plan\n",
        "----------------------------------------------------\n",
        "\n",
        "7 total actions in plan\n",
        "25 entries in hash table, 13 hash hits, avg set size 8\n",
        "44 total set-creation steps (entries + hits + plan length - 1)\n",
        "38 actions tried\n",
        "\n",
        "####################################################\n",
        "Total elapsed time:   0.00 seconds\n",
        "Time in milliseconds: 3\n",
        "\n",
        "####################################################\n"
       ]
      }
     ],
     "prompt_number": 22
    },
    {
     "cell_type": "code",
     "collapsed": false,
     "input": [
      "%%bash -s \"$vhpop\" \"$domain\" \"$problem\"\n",
      "$1  -f LCFR -l 10000 -f MW -l unlimited $2 $3"
     ],
     "language": "python",
     "metadata": {},
     "outputs": [
      {
       "output_type": "stream",
       "stream": "stdout",
       "text": [
        ";hanoi-3\n",
        "1:(move-disk d1 d2 p1)\n",
        "2:(move-disk d2 d3 p2)\n",
        "3:(move-disk d1 p1 d2)\n",
        "4:(move-disk d3 p3 p1)\n",
        "5:(move-disk d1 d2 p3)\n",
        "6:(move-disk d2 p2 d3)\n",
        "7:(move-disk d1 p3 d2)\n",
        "Time: 732\n"
       ]
      }
     ],
     "prompt_number": 24
    },
    {
     "cell_type": "heading",
     "level": 3,
     "metadata": {},
     "source": [
      "a) Explain the method by which each of the two planners finds a solution."
     ]
    },
    {
     "cell_type": "code",
     "collapsed": false,
     "input": [],
     "language": "python",
     "metadata": {},
     "outputs": [],
     "prompt_number": 24
    },
    {
     "cell_type": "heading",
     "level": 3,
     "metadata": {},
     "source": [
      "b) Which planner was fastest?"
     ]
    },
    {
     "cell_type": "code",
     "collapsed": false,
     "input": [],
     "language": "python",
     "metadata": {},
     "outputs": [],
     "prompt_number": 24
    },
    {
     "cell_type": "heading",
     "level": 3,
     "metadata": {},
     "source": [
      "c) Explain why the winning planner might be more effective on this problem. "
     ]
    },
    {
     "cell_type": "code",
     "collapsed": false,
     "input": [],
     "language": "python",
     "metadata": {},
     "outputs": [],
     "prompt_number": 24
    },
    {
     "cell_type": "heading",
     "level": 2,
     "metadata": {},
     "source": [
      "2) Sokoban PDDL"
     ]
    },
    {
     "cell_type": "markdown",
     "metadata": {},
     "source": [
      "During the times of Pong, Pac-Man and Tetris, Hiroyuki Imabayashi created an complex game that tested the human abilities of planning: Sokoban. Many folks are still addicted to solving Sokoban puzzles and you can join them by playing any of the versions freely distributed on the web. The goal is for the human, or robot, to push all the boxes into the desired locations. The robot can move horizontally and vertically and push one box at a time."
     ]
    },
    {
     "cell_type": "code",
     "collapsed": false,
     "input": [
      "Image(\"Figures/Sokoban 1.png\")"
     ],
     "language": "python",
     "metadata": {},
     "outputs": [
      {
       "metadata": {},
       "output_type": "pyout",
       "png": "[encoded data removed]",
       "prompt_number": 28,
       "text": [
        "<IPython.core.display.Image at 0x7f0ff870e910>"
       ]
      }
     ],
     "prompt_number": 28
    },
    {
     "cell_type": "markdown",
     "metadata": {},
     "source": [
      "Describe the Sokoban domain in PDDL. For each of the problems in Figure 2, define the problem in PDDL. You can either use the target lettering given in the picture or let the planner move any box to any target square. For the challenge problem, any box in any location is a solution. In the challenge, PDDL should NOT inform the robot which box should go to which location. In addition you may also try other problems you invent or find on the web. How well do your two planners perform on these problems? If no planner seems to be solving it, perhaps you should consider a different method for defining your problems."
     ]
    },
    {
     "cell_type": "code",
     "collapsed": false,
     "input": [],
     "language": "python",
     "metadata": {},
     "outputs": []
    },
    {
     "cell_type": "code",
     "collapsed": false,
     "input": [],
     "language": "python",
     "metadata": {},
     "outputs": [
      {
       "ename": "ImportError",
       "evalue": "No module named enum",
       "output_type": "pyerr",
       "traceback": [
        "\u001b[1;31m---------------------------------------------------------------------------\u001b[0m\n\u001b[1;31mImportError\u001b[0m                               Traceback (most recent call last)",
        "\u001b[1;32m<ipython-input-1-1fa79e382ec5>\u001b[0m in \u001b[0;36m<module>\u001b[1;34m()\u001b[0m\n\u001b[1;32m----> 1\u001b[1;33m \u001b[1;32mfrom\u001b[0m \u001b[0menum\u001b[0m \u001b[1;32mimport\u001b[0m \u001b[0mEnum\u001b[0m\u001b[1;33m\u001b[0m\u001b[0m\n\u001b[0m",
        "\u001b[1;31mImportError\u001b[0m: No module named enum"
       ]
      }
     ],
     "prompt_number": 1
    },
    {
     "cell_type": "code",
     "collapsed": false,
     "input": [],
     "language": "python",
     "metadata": {},
     "outputs": []
    },
    {
     "cell_type": "code",
     "collapsed": false,
     "input": [],
     "language": "python",
     "metadata": {},
     "outputs": []
    },
    {
     "cell_type": "code",
     "collapsed": false,
     "input": [],
     "language": "python",
     "metadata": {},
     "outputs": []
    },
    {
     "cell_type": "code",
     "collapsed": false,
     "input": [],
     "language": "python",
     "metadata": {},
     "outputs": []
    },
    {
     "cell_type": "code",
     "collapsed": false,
     "input": [],
     "language": "python",
     "metadata": {},
     "outputs": []
    },
    {
     "cell_type": "code",
     "collapsed": false,
     "input": [],
     "language": "python",
     "metadata": {},
     "outputs": []
    }
   ],
   "metadata": {}
  }
 ]
}