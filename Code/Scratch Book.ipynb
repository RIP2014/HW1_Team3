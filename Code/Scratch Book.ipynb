{
 "metadata": {
  "name": "",
  "signature": "sha256:425abbe9cc0440be284d1e21ceadd1ec336d650f1dac2894e3798105891bf6b1"
 },
 "nbformat": 3,
 "nbformat_minor": 0,
 "worksheets": [
  {
   "cells": [
    {
     "cell_type": "code",
     "collapsed": false,
     "input": [
      "from enum import Enum\n",
      "import copy"
     ],
     "language": "python",
     "metadata": {},
     "outputs": [],
     "prompt_number": 7
    },
    {
     "cell_type": "code",
     "collapsed": false,
     "input": [
      "class WorldElement(Enum):\n",
      "    CLEAR_CELL   = ('_')\n",
      "    BLOCKED_CELL = ('X')\n",
      "    ROBOT_CELL   = ('r')\n",
      "    BOX_CELL     = ('o')\n",
      "    BOX_A_CELL   = ('a')\n",
      "    BOX_B_CELL   = ('b')\n",
      "    BOX_C_CELL   = ('c')\n",
      "    GOAL_CELL    = ('g')\n",
      "    GOAL_A_CELL  = ('A')\n",
      "    GOAL_B_CELL  = ('B')\n",
      "    GOAL_C_CELL  = ('C')\n",
      "#     GOAL_SET_CELL = ('O')\n",
      "#     GOAL_A_SET_CELL = ('')\n",
      "#     GOAL_B_SET_CELL = ('')\n",
      "#     GOAL_C_SET_CELL = ('')\n",
      "    \n",
      "    def __init__(self, char):\n",
      "        self.char = char\n",
      "        self.location = None\n",
      "    \n",
      "    def __repr__(self):\n",
      "        return self.char\n",
      "    \n",
      "    def __str__(self):\n",
      "        return self.char\n",
      "    \n",
      "world_dect =    {'_': WorldElement.CLEAR_CELL, \n",
      "                 'X': WorldElement.BLOCKED_CELL,\n",
      "                 'r': WorldElement.ROBOT_CELL,\n",
      "                 'o': WorldElement.BOX_CELL,\n",
      "                 'a': WorldElement.BOX_A_CELL,\n",
      "                 'b': WorldElement.BOX_B_CELL,\n",
      "                 'c': WorldElement.BOX_C_CELL,\n",
      "                 'g': WorldElement.GOAL_CELL,\n",
      "                 'A': WorldElement.GOAL_A_CELL,\n",
      "                 'B': WorldElement.GOAL_B_CELL,\n",
      "                 'C': WorldElement.GOAL_C_CELL}\n",
      "\n",
      "start_dect =    {'_': WorldElement.CLEAR_CELL, \n",
      "                 'X': WorldElement.BLOCKED_CELL,\n",
      "                 'r': WorldElement.ROBOT_CELL,\n",
      "                 'o': WorldElement.BOX_CELL,\n",
      "                 'a': WorldElement.BOX_A_CELL,\n",
      "                 'b': WorldElement.BOX_B_CELL,\n",
      "                 'c': WorldElement.BOX_C_CELL,\n",
      "                 'g': WorldElement.CLEAR_CELL,\n",
      "                 'A': WorldElement.CLEAR_CELL,\n",
      "                 'B': WorldElement.CLEAR_CELL,\n",
      "                 'C': WorldElement.CLEAR_CELL}\n",
      "\n",
      "goal_dect =     {'_': WorldElement.CLEAR_CELL, \n",
      "                 'X': WorldElement.BLOCKED_CELL,\n",
      "                 'r': WorldElement.ROBOT_CELL,\n",
      "                 'o': WorldElement.CLEAR_CELL,\n",
      "                 'a': WorldElement.CLEAR_CELL,\n",
      "                 'b': WorldElement.CLEAR_CELL,\n",
      "                 'c': WorldElement.CLEAR_CELL,\n",
      "                 'g': WorldElement.GOAL_CELL,\n",
      "                 'A': WorldElement.GOAL_A_CELL,\n",
      "                 'B': WorldElement.GOAL_B_CELL,\n",
      "                 'C': WorldElement.GOAL_C_CELL}\n",
      "\n",
      "class WorldDirections(Enum):\n",
      "    UP     = ('up')\n",
      "    DOWN   = ('down')\n",
      "    LEFT   = ('left')\n",
      "    RIGHT  = ('right')\n",
      "    \n",
      "    def __init__(self, char):\n",
      "        self.char = char\n",
      "    \n",
      "    def __repr__(self):\n",
      "        return self.char\n",
      "    \n",
      "    def __str__(self):\n",
      "        return self.char"
     ],
     "language": "python",
     "metadata": {},
     "outputs": [],
     "prompt_number": 16
    },
    {
     "cell_type": "code",
     "collapsed": false,
     "input": [
      "class Sokoban(object):\n",
      "    def __init__(self, world_path, labeled_boxes):\n",
      "        \"\"\"Initialize Sokoban game\"\"\"\n",
      "        self.world_path = world_path\n",
      "        self.labeled_boxes = labeled_boxes\n",
      "        self.world = None\n",
      "        self.start_world = self.loadWorld(world_path, labeled_boxes, goal_map= False)\n",
      "        self.goal_world    = self.loadWorld(world_path, labeled_boxes, goal_map= True)\n",
      "        \n",
      "    def loadWorld(self, world_path, labeled_boxes, goal_map):\n",
      "        \"\"\"Load the Sokoban world from ascii file\"\"\"\n",
      "        with open(world_path) as f:\n",
      "            staric_world = f.read()\n",
      "        world = [list(row) for row in staric_world.split('\\n')][:-1]\n",
      "        for i, row in enumerate(world):\n",
      "            for j, col in enumerate(row):\n",
      "                if(goal_map):\n",
      "                    loc = copy.deepcopy(goal_dect[world[i][j]])\n",
      "                else:\n",
      "                    loc = copy.deepcopy(start_dect[world[i][j]])\n",
      "                loc.location = 'r' + str(i) + '-' + 'c' + str(j)\n",
      "                world[i][j] = loc\n",
      "                    \n",
      "        return world\n",
      "    \n",
      "    def writeProblem(self, problem_path):\n",
      "        with open(problem_path, 'w') as f:\n",
      "            proble_comment = '; This is an auto generated sokoban problem'\n",
      "            problem = '(define (problem sokoban_problem )'\n",
      "            domain_comment = '; The domain for our sokoban problem is simply named sokoban'\n",
      "            domain  = '(:domain sokoban)'\n",
      "            f.write(proble_comment + '\\n')\n",
      "            f.write(problem + '\\n\\n')\n",
      "            f.write(domain_comment + '\\n')\n",
      "            f.write(domain + '\\n\\n')\n",
      "\n",
      "            #Specify list of objects\n",
      "            objects_comment = '; Specify list of objects'\n",
      "            objects = '(:objects '\n",
      "            f.write(objects_comment + '\\n')\n",
      "            f.write(objects + '\\n\\n')\n",
      "            \n",
      "            #Specify list of directions\n",
      "            directions_comment = '; Specify list of directions'\n",
      "            directions = '' + \\\n",
      "                str(WorldDirections.UP)     + ' ' + \\\n",
      "                str(WorldDirections.DOWN)   + ' ' + \\\n",
      "                str(WorldDirections.LEFT)   + ' ' + \\\n",
      "                str(WorldDirections.RIGHT)\n",
      "            f.write(directions_comment + '\\n')\n",
      "            f.write(directions + '\\n\\n')\n",
      "            \n",
      "            \n",
      "            #Specify list of blocks\n",
      "            blocks_comment = '; Specify list of blocks'\n",
      "            blocks = '(:blocks '\n",
      "            f.write(blocks_comment + '\\n')\n",
      "            f.write(blocks + '\\n\\n')\n",
      "            \n",
      "            #Specify list of locations\n",
      "            \n",
      "            \n",
      "            \n",
      "            \n",
      "            \n",
      "\n",
      "            #Init direction objects\n",
      "\n",
      "            #Init block objects\n",
      "\n",
      "            #Init block locations\n",
      "\n",
      "            #Init robot object\n",
      "\n",
      "            #Init robot location\n",
      "\n",
      "            #Init navigable objects\n",
      "\n",
      "            #Init empty objects\n",
      "\n",
      "            #Init adjacent objects\n",
      "\n",
      "            #Init goal states\n",
      "        \n",
      "        \n",
      "        "
     ],
     "language": "python",
     "metadata": {},
     "outputs": [],
     "prompt_number": 50
    },
    {
     "cell_type": "code",
     "collapsed": false,
     "input": [
      "sokoban = Sokoban(\"Worlds/world3.txt\", labeled_boxes = False)\n",
      "sokoban.writeProblem(\"Worlds/world3_proble.pddl\")"
     ],
     "language": "python",
     "metadata": {},
     "outputs": [],
     "prompt_number": 51
    },
    {
     "cell_type": "code",
     "collapsed": false,
     "input": [
      "sokoban.start_world"
     ],
     "language": "python",
     "metadata": {},
     "outputs": [
      {
       "metadata": {},
       "output_type": "pyout",
       "prompt_number": 52,
       "text": [
        "[[X, X, X, X, X, X, X, X, X, X, X],\n",
        " [X, X, X, X, X, X, X, _, _, _, X],\n",
        " [X, X, X, X, X, X, X, _, X, _, X],\n",
        " [X, X, X, X, X, X, X, _, X, _, X],\n",
        " [X, _, r, _, c, _, b, _, a, _, X],\n",
        " [X, _, X, _, X, _, X, _, X, X, X],\n",
        " [X, _, _, _, _, _, _, _, X, X, X],\n",
        " [X, X, X, X, X, X, X, X, X, X, X]]"
       ]
      }
     ],
     "prompt_number": 52
    },
    {
     "cell_type": "code",
     "collapsed": false,
     "input": [
      "sokoban.goal_world"
     ],
     "language": "python",
     "metadata": {},
     "outputs": [
      {
       "metadata": {},
       "output_type": "pyout",
       "prompt_number": 39,
       "text": [
        "[[X, X, X, X, X, X, X, X, X, X, X],\n",
        " [X, X, X, X, X, X, X, A, _, _, X],\n",
        " [X, X, X, X, X, X, X, B, X, _, X],\n",
        " [X, X, X, X, X, X, X, C, X, _, X],\n",
        " [X, _, r, _, _, _, _, _, _, _, X],\n",
        " [X, _, X, _, X, _, X, _, X, X, X],\n",
        " [X, _, _, _, _, _, _, _, X, X, X],\n",
        " [X, X, X, X, X, X, X, X, X, X, X]]"
       ]
      }
     ],
     "prompt_number": 39
    },
    {
     "cell_type": "code",
     "collapsed": false,
     "input": [
      "sokoban.goal_world[1][7].location"
     ],
     "language": "python",
     "metadata": {},
     "outputs": [
      {
       "metadata": {},
       "output_type": "pyout",
       "prompt_number": 31,
       "text": [
        "'r1-c7'"
       ]
      }
     ],
     "prompt_number": 31
    },
    {
     "cell_type": "code",
     "collapsed": false,
     "input": [
      "sokoban.goal_world[1][7]"
     ],
     "language": "python",
     "metadata": {},
     "outputs": [
      {
       "metadata": {},
       "output_type": "pyout",
       "prompt_number": 33,
       "text": [
        "A"
       ]
      }
     ],
     "prompt_number": 33
    },
    {
     "cell_type": "code",
     "collapsed": false,
     "input": [
      "f = open(\"lol.lol\", 'w')"
     ],
     "language": "python",
     "metadata": {},
     "outputs": [],
     "prompt_number": 35
    },
    {
     "cell_type": "code",
     "collapsed": false,
     "input": [],
     "language": "python",
     "metadata": {},
     "outputs": []
    },
    {
     "cell_type": "code",
     "collapsed": false,
     "input": [],
     "language": "python",
     "metadata": {},
     "outputs": []
    },
    {
     "cell_type": "code",
     "collapsed": false,
     "input": [],
     "language": "python",
     "metadata": {},
     "outputs": []
    }
   ],
   "metadata": {}
  }
 ]
}